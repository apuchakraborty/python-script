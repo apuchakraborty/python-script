{
 "cells": [
  {
   "cell_type": "code",
   "execution_count": 54,
   "metadata": {},
   "outputs": [
    {
     "name": "stdout",
     "output_type": "stream",
     "text": [
      "Hello world! - https://itbeliever.com/index.php/2020/03/26/hello-world/\n",
      "DJI Phantom 3 vs Phantom 4 - https://itbeliever.com/index.php/2018/08/01/dji-phantom-3-vs-phantom-4/\n",
      "Sony PlayStation 5 Specs - https://itbeliever.com/index.php/2018/08/01/sony-playstation-5-specs/\n",
      "Microsoft Arc touch wireless mouse - https://itbeliever.com/index.php/2018/08/01/microsoft-arc-touch-wireless-mouse/\n",
      "GoPro hero5 black review - https://itbeliever.com/index.php/2018/08/01/gopro-hero5-black-review/\n",
      "The best smart watches 2018 - https://itbeliever.com/index.php/2018/08/01/the-best-smart-watches-2018/\n",
      "The most popular iPhone during Q3 - https://itbeliever.com/index.php/2018/08/01/the-most-popular-iphone-during-q3/\n",
      "Is MacBook Pro best labtop yet? - https://itbeliever.com/index.php/2018/08/01/is-macbook-pro-best-labtop-yet/\n",
      "How to setup google home on Android and iOS device? - https://itbeliever.com/index.php/2018/08/01/how-to-setup-google-home-on-android-and-ios-device/\n",
      "Which Apple phone is the best? - https://itbeliever.com/index.php/2018/07/30/which-apple-phone-is-the-best/\n"
     ]
    }
   ],
   "source": [
    "from bs4 import BeautifulSoup\n",
    "import requests\n",
    "\n",
    "source = requests.get('http://itbeliever.com/').text\n",
    "soup = BeautifulSoup(source, 'lxml')\n",
    "\n",
    "article = soup.findAll('article')\n",
    "for articles in article:\n",
    "    headlines = articles.h2.a.text + ' - ' + articles.h2.a['href']\n",
    "    print(headlines)\n",
    "#print(article)\n",
    "# article = soup.find('article')\n",
    "# aart = article.find('h2', class_='entry-title')\n",
    "# naart=aart.find('a')['href']\n",
    "# print(naart)\n",
    "#print(aritcle)\n",
    "#print(soup.prettify())\n",
    "#print(soup.title.text)"
   ]
  },
  {
   "cell_type": "code",
   "execution_count": 42,
   "metadata": {},
   "outputs": [],
   "source": []
  },
  {
   "cell_type": "code",
   "execution_count": null,
   "metadata": {},
   "outputs": [],
   "source": []
  }
 ],
 "metadata": {
  "kernelspec": {
   "display_name": "Python 3",
   "language": "python",
   "name": "python3"
  },
  "language_info": {
   "codemirror_mode": {
    "name": "ipython",
    "version": 3
   },
   "file_extension": ".py",
   "mimetype": "text/x-python",
   "name": "python",
   "nbconvert_exporter": "python",
   "pygments_lexer": "ipython3",
   "version": "3.7.4"
  }
 },
 "nbformat": 4,
 "nbformat_minor": 2
}
